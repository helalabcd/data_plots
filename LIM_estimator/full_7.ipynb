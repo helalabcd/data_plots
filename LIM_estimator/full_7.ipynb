{
 "cells": [
  {
   "cell_type": "code",
   "execution_count": null,
   "id": "2a459689-cd0f-42f7-9478-b420c7b3c667",
   "metadata": {
    "tags": []
   },
   "outputs": [],
   "source": [
    "import pickle\n",
    "import matplotlib.pyplot as plt\n",
    "\n",
    "import seaborn as sns\n",
    "sns.set_theme()\n",
    "\n",
    "data_df = pickle.load( open( \"experiment_final_sweep_base_large.p\", \"rb\" ) )\n",
    "base_large_runs = data_df[data_df[\"run.experiment\"] == \"final_sweep_base_large\"]\n",
    "base_large_runs[\"run.hash\"].unique()\n",
    "\n",
    "dsfull = base_large_runs[base_large_runs[\"run.simulate_smaller_dataset\"] == 1]\n",
    "ds10_percent = base_large_runs[base_large_runs[\"run.simulate_smaller_dataset\"] == 0.1]\n",
    "\n",
    "len(dsfull), len(ds10_percent)"
   ]
  },
  {
   "cell_type": "code",
   "execution_count": null,
   "id": "f4c6768f-f34c-47d1-b486-3c95182a8543",
   "metadata": {
    "tags": []
   },
   "outputs": [],
   "source": [
    "_runs7 = dsfull[dsfull[\"run.lr\"] == 1e-7]"
   ]
  },
  {
   "cell_type": "code",
   "execution_count": null,
   "id": "abe9bfec-6128-4096-8af1-ca88285a5583",
   "metadata": {
    "tags": []
   },
   "outputs": [],
   "source": [
    "_run7large = _runs7[_runs7[\"run.model_type_b\"].str.endswith(\"single_mae_vit_large_patch16.pt\")]\n",
    "\n",
    "_run7large_noinit = _run7large[~(_run7large[\"run.load_checkpoint\"] == \"../h100_max/single_mae_vit_large_patch16.pt\")]\n",
    "_run7large_init = _run7large[_run7large[\"run.load_checkpoint\"] == \"../h100_max/single_mae_vit_large_patch16.pt\"]\n",
    "\n",
    "_run7base = _runs7[_runs7[\"run.model_type_b\"].str.endswith(\"single_mae_vit_base_patch16.pt\")]\n",
    "\n",
    "_run7base_noinit = _run7base[~(_run7base[\"run.load_checkpoint\"] == \"../h100_max/single_mae_vit_base_patch16.pt\")]\n",
    "_run7base_init = _run7base[_run7base[\"run.load_checkpoint\"] == \"../h100_max/single_mae_vit_base_patch16.pt\"]\n"
   ]
  },
  {
   "cell_type": "code",
   "execution_count": null,
   "id": "4b2c6c70-f311-4f1d-98d2-7aa4ca6cfeb3",
   "metadata": {
    "tags": []
   },
   "outputs": [],
   "source": [
    "ymin, ymax = 1e-3, 1e-2\n",
    "\n",
    "fig, ax = plt.subplots(2,2, figsize=(12,8))\n",
    "\n",
    "xmin = 0\n",
    "xmax = _run7base_noinit[_run7base_noinit[\"metric.name\"] == \"train_loss\"][\"step\"].max()\n",
    "\n",
    "ax.flat[0].plot(_run7base_noinit[_run7base_noinit[\"metric.name\"] == \"train_loss\"][\"step\"][::1000], _run7base_noinit[_run7base_noinit[\"metric.name\"] == \"train_loss\"][\"value\"][::1000], label=\"No weight init\")\n",
    "ax.flat[0].plot(_run7base_init[_run7base_init[\"metric.name\"] == \"train_loss\"][\"step\"][::1000], _run7base_init[_run7base_init[\"metric.name\"] == \"train_loss\"][\"value\"][::1000], label=\"Weight init\")\n",
    "ax.flat[0].set_yscale(\"log\")\n",
    "ax.flat[0].set_ylabel(\"train loss\")\n",
    "ax.flat[0].set_xlabel(\"train steps\")\n",
    "ax.flat[0].set_ylim([ymin, ymax])\n",
    "ax.flat[0].set_xlim([xmin, xmax])\n",
    "\n",
    "ax.flat[1].plot(_run7base_noinit[_run7base_noinit[\"metric.name\"] == \"val_loss\"][\"step\"][::50], _run7base_noinit[_run7base_noinit[\"metric.name\"] == \"val_loss\"][\"value\"][::50], label=\"No weight init\")\n",
    "ax.flat[1].plot(_run7base_init[_run7base_init[\"metric.name\"] == \"val_loss\"][\"step\"][::50], _run7base_init[_run7base_init[\"metric.name\"] == \"val_loss\"][\"value\"][::50], label=\"Weight init\")\n",
    "ax.flat[1].set_yscale(\"log\")\n",
    "ax.flat[1].set_ylabel(\"validation loss\")\n",
    "ax.flat[1].set_xlabel(\"train steps\")\n",
    "ax.flat[1].set_ylim([ymin, ymax])\n",
    "ax.flat[1].set_xlim([xmin, xmax])\n",
    "\n",
    "\n",
    "xmin = 0\n",
    "xmax = _run7large_noinit[_run7large_noinit[\"metric.name\"] == \"train_loss\"][\"step\"].max()\n",
    "ax.flat[2].plot(_run7large_noinit[_run7large_noinit[\"metric.name\"] == \"train_loss\"][\"step\"][::1000], _run7large_noinit[_run7large_noinit[\"metric.name\"] == \"train_loss\"][\"value\"][::1000], label=\"No weight init\")\n",
    "ax.flat[2].plot(_run7large_init[_run7large_init[\"metric.name\"] == \"train_loss\"][\"step\"][::1000], _run7large_init[_run7large_init[\"metric.name\"] == \"train_loss\"][\"value\"][::1000], label=\"Weight init\")\n",
    "ax.flat[2].set_yscale(\"log\")\n",
    "ax.flat[2].set_ylabel(\"train loss\")\n",
    "ax.flat[2].set_xlabel(\"train steps\")\n",
    "ax.flat[2].set_ylim([ymin, ymax])\n",
    "ax.flat[2].set_xlim([xmin, xmax])\n",
    "\n",
    "\n",
    "ax.flat[3].plot(_run7large_noinit[_run7large_noinit[\"metric.name\"] == \"val_loss\"][\"step\"][::50], _run7large_noinit[_run7large_noinit[\"metric.name\"] == \"val_loss\"][\"value\"][::50], label=\"No weight init\")\n",
    "ax.flat[3].plot(_run7large_init[_run7large_init[\"metric.name\"] == \"val_loss\"][\"step\"][::50], _run7large_init[_run7large_init[\"metric.name\"] == \"val_loss\"][\"value\"][::50], label=\"Weight init\")\n",
    "ax.flat[3].set_yscale(\"log\")\n",
    "ax.flat[3].set_ylabel(\"validation loss\")\n",
    "ax.flat[3].set_xlabel(\"train steps\")\n",
    "ax.flat[3].set_ylim([ymin, ymax])\n",
    "ax.flat[3].set_xlim([xmin, xmax])\n",
    "\n",
    "plt.tight_layout()\n",
    "\n",
    "plt.savefig(\"full_7.pdf\")"
   ]
  }
 ],
 "metadata": {
  "kernelspec": {
   "display_name": "Python 3 (ipykernel)",
   "language": "python",
   "name": "python3"
  },
  "language_info": {
   "codemirror_mode": {
    "name": "ipython",
    "version": 3
   },
   "file_extension": ".py",
   "mimetype": "text/x-python",
   "name": "python",
   "nbconvert_exporter": "python",
   "pygments_lexer": "ipython3",
   "version": "3.10.12"
  }
 },
 "nbformat": 4,
 "nbformat_minor": 5
}
