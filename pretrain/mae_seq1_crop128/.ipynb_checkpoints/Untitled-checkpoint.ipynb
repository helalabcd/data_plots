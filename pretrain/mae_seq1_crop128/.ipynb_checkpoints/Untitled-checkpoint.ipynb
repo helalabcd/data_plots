{
 "cells": [
  {
   "cell_type": "code",
   "execution_count": null,
   "id": "69d22e68-2748-4d29-a7ad-e1896c62d70d",
   "metadata": {
    "tags": []
   },
   "outputs": [],
   "source": [
    "%pip install seaborn"
   ]
  },
  {
   "cell_type": "code",
   "execution_count": 1,
   "id": "9a8a05cf-d337-495d-a6d9-52d0b5787cbc",
   "metadata": {
    "tags": []
   },
   "outputs": [],
   "source": [
    "import matplotlib\n",
    "import matplotlib.pyplot as plt\n",
    "import numpy as np\n",
    "import seaborn as sns\n",
    "import pandas as pd"
   ]
  },
  {
   "cell_type": "code",
   "execution_count": 2,
   "id": "e65eb330-0349-49b9-8d38-12d1e21f8edd",
   "metadata": {
    "tags": []
   },
   "outputs": [],
   "source": [
    "import numpy as np"
   ]
  },
  {
   "cell_type": "code",
   "execution_count": 3,
   "id": "abf77407-2292-4c78-9f97-512738580cf4",
   "metadata": {
    "tags": []
   },
   "outputs": [],
   "source": [
    "import seaborn as sns\n",
    "sns.set_theme()"
   ]
  },
  {
   "cell_type": "code",
   "execution_count": 5,
   "id": "c3abe132-59bb-4cbe-b88d-d0f4952c954d",
   "metadata": {
    "tags": []
   },
   "outputs": [
    {
     "ename": "FileNotFoundError",
     "evalue": "[Errno 2] No such file or directory: 'slurm-3904272.out'",
     "output_type": "error",
     "traceback": [
      "\u001b[0;31m---------------------------------------------------------------------------\u001b[0m",
      "\u001b[0;31mFileNotFoundError\u001b[0m                         Traceback (most recent call last)",
      "Cell \u001b[0;32mIn[5], line 1\u001b[0m\n\u001b[0;32m----> 1\u001b[0m first \u001b[38;5;241m=\u001b[39m \u001b[38;5;28;43mopen\u001b[39;49m\u001b[43m(\u001b[49m\u001b[38;5;124;43m\"\u001b[39;49m\u001b[38;5;124;43mslurm-3904272.out\u001b[39;49m\u001b[38;5;124;43m\"\u001b[39;49m\u001b[43m)\u001b[49m\u001b[38;5;241m.\u001b[39mreadlines()\n\u001b[1;32m      2\u001b[0m continuation \u001b[38;5;241m=\u001b[39m \u001b[38;5;28mopen\u001b[39m(\u001b[38;5;124m\"\u001b[39m\u001b[38;5;124mslurm-3957218.out\u001b[39m\u001b[38;5;124m\"\u001b[39m)\u001b[38;5;241m.\u001b[39mreadlines()\n",
      "File \u001b[0;32m~/.local/lib/python3.10/site-packages/IPython/core/interactiveshell.py:284\u001b[0m, in \u001b[0;36m_modified_open\u001b[0;34m(file, *args, **kwargs)\u001b[0m\n\u001b[1;32m    277\u001b[0m \u001b[38;5;28;01mif\u001b[39;00m file \u001b[38;5;129;01min\u001b[39;00m {\u001b[38;5;241m0\u001b[39m, \u001b[38;5;241m1\u001b[39m, \u001b[38;5;241m2\u001b[39m}:\n\u001b[1;32m    278\u001b[0m     \u001b[38;5;28;01mraise\u001b[39;00m \u001b[38;5;167;01mValueError\u001b[39;00m(\n\u001b[1;32m    279\u001b[0m         \u001b[38;5;124mf\u001b[39m\u001b[38;5;124m\"\u001b[39m\u001b[38;5;124mIPython won\u001b[39m\u001b[38;5;124m'\u001b[39m\u001b[38;5;124mt let you open fd=\u001b[39m\u001b[38;5;132;01m{\u001b[39;00mfile\u001b[38;5;132;01m}\u001b[39;00m\u001b[38;5;124m by default \u001b[39m\u001b[38;5;124m\"\u001b[39m\n\u001b[1;32m    280\u001b[0m         \u001b[38;5;124m\"\u001b[39m\u001b[38;5;124mas it is likely to crash IPython. If you know what you are doing, \u001b[39m\u001b[38;5;124m\"\u001b[39m\n\u001b[1;32m    281\u001b[0m         \u001b[38;5;124m\"\u001b[39m\u001b[38;5;124myou can use builtins\u001b[39m\u001b[38;5;124m'\u001b[39m\u001b[38;5;124m open.\u001b[39m\u001b[38;5;124m\"\u001b[39m\n\u001b[1;32m    282\u001b[0m     )\n\u001b[0;32m--> 284\u001b[0m \u001b[38;5;28;01mreturn\u001b[39;00m \u001b[43mio_open\u001b[49m\u001b[43m(\u001b[49m\u001b[43mfile\u001b[49m\u001b[43m,\u001b[49m\u001b[43m \u001b[49m\u001b[38;5;241;43m*\u001b[39;49m\u001b[43margs\u001b[49m\u001b[43m,\u001b[49m\u001b[43m \u001b[49m\u001b[38;5;241;43m*\u001b[39;49m\u001b[38;5;241;43m*\u001b[39;49m\u001b[43mkwargs\u001b[49m\u001b[43m)\u001b[49m\n",
      "\u001b[0;31mFileNotFoundError\u001b[0m: [Errno 2] No such file or directory: 'slurm-3904272.out'"
     ]
    }
   ],
   "source": [
    "first = open(\"slurm-3904272.out\").readlines()\n",
    "continuation = open(\"slurm-3957218.out\").readlines()"
   ]
  },
  {
   "cell_type": "code",
   "execution_count": null,
   "id": "41546d9c-2a17-4e40-afb6-0d24dc113724",
   "metadata": {
    "tags": []
   },
   "outputs": [],
   "source": [
    "from collections import defaultdict"
   ]
  },
  {
   "cell_type": "code",
   "execution_count": null,
   "id": "5dc483ae-3f92-4e59-b964-9f7884f145b8",
   "metadata": {
    "tags": []
   },
   "outputs": [],
   "source": [
    "elosses = defaultdict(list)\n",
    "\n",
    "for l in first[:]:\n",
    "    if not l.startswith(\"Epoch:\"):\n",
    "        continue\n",
    "    if \"Total time\" in l:\n",
    "        continue\n",
    "    \n",
    "    epoch = int(l.split(\"]\")[0].split(\"[\")[1].strip())\n",
    "    iteration = int(l.split(\"[\")[2].split(\"/\")[0].strip())\n",
    "    loss = float(l.split(\"loss:\")[1].split(\"(\")[0].strip())\n",
    "    \n",
    "    elosses[epoch].append(loss)\n",
    "    \n",
    "for l in continuation[:]:\n",
    "    if not l.startswith(\"Epoch:\"):\n",
    "        continue\n",
    "    if \"Total time\" in l:\n",
    "        continue\n",
    "    \n",
    "    epoch = int(l.split(\"]\")[0].split(\"[\")[1].strip())\n",
    "    iteration = int(l.split(\"[\")[2].split(\"/\")[0].strip())\n",
    "    loss = float(l.split(\"loss:\")[1].split(\"(\")[0].strip())\n",
    "    \n",
    "    elosses[epoch].append(loss)"
   ]
  },
  {
   "cell_type": "code",
   "execution_count": null,
   "id": "bae5888a-2e18-4687-9062-e709be4cc4a7",
   "metadata": {
    "tags": []
   },
   "outputs": [],
   "source": [
    "plt.plot([sum(elosses[x]) / (len(elosses[x])+1) for x in list(elosses.keys())[1:-1]])\n",
    "plt.ylabel(\"Train loss (mse)\")\n",
    "plt.xlabel(\"Train epoch\")\n",
    "plt.title(\"$\\mathregular{{mae}_4}$\")\n",
    "plt.savefig(\"pretrain4.pdf\")"
   ]
  }
 ],
 "metadata": {
  "kernelspec": {
   "display_name": "Python 3 (ipykernel)",
   "language": "python",
   "name": "python3"
  },
  "language_info": {
   "codemirror_mode": {
    "name": "ipython",
    "version": 3
   },
   "file_extension": ".py",
   "mimetype": "text/x-python",
   "name": "python",
   "nbconvert_exporter": "python",
   "pygments_lexer": "ipython3",
   "version": "3.10.12"
  }
 },
 "nbformat": 4,
 "nbformat_minor": 5
}
