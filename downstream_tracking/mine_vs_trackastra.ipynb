{
 "cells": [
  {
   "cell_type": "code",
   "execution_count": null,
   "id": "7488d892-1880-4bb4-8194-eb326e298d86",
   "metadata": {},
   "outputs": [],
   "source": [
    "import pickle\n",
    "import matplotlib.pyplot as plt\n",
    "import numpy as np"
   ]
  },
  {
   "cell_type": "code",
   "execution_count": null,
   "id": "6043454e-2674-4dd6-8f0d-94b4285f59a3",
   "metadata": {},
   "outputs": [],
   "source": [
    "import seaborn as sns\n",
    "sns.set_theme()\n",
    "sns.set_style(\"whitegrid\", {'axes.grid' : False})"
   ]
  },
  {
   "cell_type": "code",
   "execution_count": null,
   "id": "fe38c114-465e-4895-882c-116f113fc945",
   "metadata": {},
   "outputs": [],
   "source": [
    "my = pickle.load( open( \"my_mota_motp.p\", \"rb\" ) )\n",
    "ta = pickle.load( open( \"trackastra_dfki_metrics.p\", \"rb\" ) )"
   ]
  },
  {
   "cell_type": "code",
   "execution_count": null,
   "id": "60e0db7d-b48a-416f-ad7d-54f5d9345ad2",
   "metadata": {},
   "outputs": [],
   "source": [
    "eval_bursts = list(sorted(list(my[\"adab19c177354497b76589a2_5800.pt\"].keys())))\n",
    "models = list(my.keys())"
   ]
  },
  {
   "cell_type": "code",
   "execution_count": null,
   "id": "b145727d-d7d4-4097-adb6-30d0dfc62a59",
   "metadata": {},
   "outputs": [],
   "source": [
    "load_checkpoint = {\n",
    "    # 10% - base\n",
    "    \"0bd8401af6304f72916144de_5900.pt\": True,\n",
    "    \"e6d7158656ed44d396b38c4e_5900.pt\": True,\n",
    "    \"4774ed98d2b94134a0a4992b_6000.pt\": False,\n",
    "    \"adab19c177354497b76589a2_5800.pt\": False,\n",
    "    \n",
    "    # 10% - large\n",
    "    \"06e4ae124093484fb610be95_3200.pt\": True,\n",
    "    \"ed8a19b1f3014700b8f1ad59_3200.pt\": True,\n",
    "    \"a9fdcd8de27e475585a3223e_2700.pt\": False,\n",
    "    \"94d0c81037ca4dcc8fb2691a_3200.pt\": False,\n",
    "\n",
    "    # 100% - base\n",
    "    \"4a64556adc274b9daee10cd5_700.pt\": True,\n",
    "    \"9bb907fb0ac04ffa94dd480f_700.pt\": True,\n",
    "    \"f69713bf31b643ca9fd01116_700.pt\": False,\n",
    "    \"8095272d72ea4061a6b17cb8_600.pt\": False,\n",
    "\n",
    "    # 100% - large\n",
    "    \"e268a2f942704c3c9be44822_300.pt\": True,\n",
    "    \"ded11e6f55b946bbb2382cc0_300.pt\": True,\n",
    "    \"adf6513975394978a3cfd7b0_300.pt\": False,\n",
    "    \"645c5b113a114e8c994674a4_300.pt\": False,\n",
    "}"
   ]
  },
  {
   "cell_type": "code",
   "execution_count": null,
   "id": "95a9b693-2e34-44b2-af10-34c93bda48f8",
   "metadata": {},
   "outputs": [],
   "source": [
    "from matplotlib.transforms import offset_copy"
   ]
  },
  {
   "cell_type": "code",
   "execution_count": null,
   "id": "0eb6b709-d50c-44bf-bfd6-1081aff34253",
   "metadata": {},
   "outputs": [],
   "source": [
    "trackastra_mota = [x[\"mota\"] for x in ta if x[\"burst\"] in eval_bursts]\n",
    "trackastra_motp = [x[\"motp\"] for x in ta if x[\"burst\"] in eval_bursts]"
   ]
  },
  {
   "cell_type": "markdown",
   "id": "51e84053-558b-41a5-91f6-7f8f74f1ed5c",
   "metadata": {},
   "source": [
    "## 10% runs"
   ]
  },
  {
   "cell_type": "code",
   "execution_count": null,
   "id": "b4f2a26e-39b7-418b-a312-b8652d0972fd",
   "metadata": {},
   "outputs": [],
   "source": [
    "mota1e6_noinit = []\n",
    "mota1e6_init = []\n",
    "mota1e7_noinit = []\n",
    "mota1e7_init = []\n",
    "\n",
    "motp1e6_noinit = []\n",
    "motp1e6_init = []\n",
    "motp1e7_noinit = []\n",
    "motp1e7_init = []\n",
    "\n",
    "\n",
    "\"\"\" 1e-6 \"\"\"\n",
    "\n",
    "models_versus = {\n",
    "    ##(\"0bd8401af6304f72916144de_5900.pt\", \"4774ed98d2b94134a0a4992b_6000.pt\"), #1e-6\n",
    "    #(\"e6d7158656ed44d396b38c4e_5900.pt\", \"adab19c177354497b76589a2_5800.pt\"), #1e-7\n",
    "\n",
    "    ##(\"06e4ae124093484fb610be95_3200.pt\", \"a9fdcd8de27e475585a3223e_2700.pt\"), #1e-6\n",
    "    #(\"ed8a19b1f3014700b8f1ad59_3200.pt\", \"94d0c81037ca4dcc8fb2691a_3200.pt\"), #1e-7\n",
    "\n",
    "    (\"4a64556adc274b9daee10cd5_700.pt\", \"8095272d72ea4061a6b17cb8_600.pt\"), #1e-6\n",
    "    #(\"9bb907fb0ac04ffa94dd480f_700.pt\", \"f69713bf31b643ca9fd01116_700.pt\"), #1e-7\n",
    "\n",
    "    (\"ded11e6f55b946bbb2382cc0_300.pt\", \"adf6513975394978a3cfd7b0_300.pt\"), #1e-6\n",
    "    #(\"e268a2f942704c3c9be44822_300.pt\", \"e268a2f942704c3c9be44822_300.pt\"), #1e-7\n",
    "}\n",
    "\n",
    "\n",
    "for idm, (a, b) in enumerate(models_versus):\n",
    "    for bidx, burst in enumerate(eval_bursts):\n",
    "        \n",
    "        amota = my[a][burst][\"mota\"] # amota is WITH weight init\n",
    "        bmota = my[b][burst][\"mota\"] # bmota is WITHOUT weight init\n",
    "\n",
    "        mota1e6_init.append(amota)\n",
    "        mota1e6_noinit.append(bmota)\n",
    "\n",
    "        amotp = my[a][burst][\"motp\"] # amota is WITH weight init\n",
    "        bmotp = my[b][burst][\"motp\"] # bmota is WITHOUT weight init\n",
    "\n",
    "        motp1e6_init.append(amotp)\n",
    "        motp1e6_noinit.append(bmotp)\n",
    "\n",
    "\"\"\" 1e-7 \"\"\"\n",
    "\n",
    "models_versus = {\n",
    "    #(\"0bd8401af6304f72916144de_5900.pt\", \"4774ed98d2b94134a0a4992b_6000.pt\"), #1e-6\n",
    "    ##(\"e6d7158656ed44d396b38c4e_5900.pt\", \"adab19c177354497b76589a2_5800.pt\"), #1e-7\n",
    "\n",
    "    #(\"06e4ae124093484fb610be95_3200.pt\", \"a9fdcd8de27e475585a3223e_2700.pt\"), #1e-6\n",
    "    ##(\"ed8a19b1f3014700b8f1ad59_3200.pt\", \"94d0c81037ca4dcc8fb2691a_3200.pt\"), #1e-7\n",
    "\n",
    "    #(\"4a64556adc274b9daee10cd5_700.pt\", \"8095272d72ea4061a6b17cb8_600.pt\"), #1e-6\n",
    "    (\"9bb907fb0ac04ffa94dd480f_700.pt\", \"f69713bf31b643ca9fd01116_700.pt\"), #1e-7\n",
    "\n",
    "    #(\"ded11e6f55b946bbb2382cc0_300.pt\", \"adf6513975394978a3cfd7b0_300.pt\"), #1e-6\n",
    "    (\"e268a2f942704c3c9be44822_300.pt\", \"e268a2f942704c3c9be44822_300.pt\"), #1e-7\n",
    "}\n",
    "\n",
    "\n",
    "for idm, (a, b) in enumerate(models_versus):\n",
    "    for bidx, burst in enumerate(eval_bursts):\n",
    "    \n",
    "        amota = my[a][burst][\"mota\"]\n",
    "        bmota = my[b][burst][\"mota\"]\n",
    "\n",
    "        mota1e7_noinit.append(amota)\n",
    "        mota1e7_init.append(bmota)\n",
    "\n",
    "        amotp = my[a][burst][\"motp\"]\n",
    "        bmotp = my[b][burst][\"motp\"]\n",
    "\n",
    "        motp1e7_noinit.append(amotp)\n",
    "        motp1e7_init.append(bmotp)\n",
    "\n",
    "fig, ax = plt.subplots(1,2, figsize=(10,4))\n",
    "\n",
    "ax.flat[0].boxplot(\n",
    "    [trackastra_mota, mota1e6_noinit, mota1e6_init, mota1e7_noinit, mota1e7_init],\n",
    "    labels=['Trackastra\\ngeneral_2d', 'lr 1e-6,\\nno weight init', 'lr 1e-6,\\nweight init', 'lr 1e-7,\\nno weight init', 'lr 1e-7,\\nweight init']\n",
    ")\n",
    "\n",
    "\n",
    "ax.flat[0].set_ylabel(\"mota\")\n",
    "\n",
    "ax.flat[1].boxplot(\n",
    "    [trackastra_motp, motp1e6_noinit, motp1e6_init, motp1e7_noinit, motp1e7_init],\n",
    "    labels=['Trackastra\\ngeneral_2d', 'lr 1e-6,\\nno weight init', 'lr 1e-6,\\nweight init', 'lr 1e-7,\\nno weight init', 'lr 1e-7,\\nweight init']\n",
    ")\n",
    "ax.flat[0].tick_params(axis='x', labelsize=8.5)\n",
    "ax.flat[1].tick_params(axis='x', labelsize=8.5)\n",
    "\n",
    "#ax.flat[0].set_xticks(fontsize=10)\n",
    "ax.flat[1].set_ylabel(\"motp\")\n",
    "\n",
    "plt.tight_layout()\n",
    "plt.savefig(\"trackastra_mota.pdf\")"
   ]
  }
 ],
 "metadata": {
  "kernelspec": {
   "display_name": "Python 3 (ipykernel)",
   "language": "python",
   "name": "python3"
  },
  "language_info": {
   "codemirror_mode": {
    "name": "ipython",
    "version": 3
   },
   "file_extension": ".py",
   "mimetype": "text/x-python",
   "name": "python",
   "nbconvert_exporter": "python",
   "pygments_lexer": "ipython3",
   "version": "3.11.9"
  }
 },
 "nbformat": 4,
 "nbformat_minor": 5
}
